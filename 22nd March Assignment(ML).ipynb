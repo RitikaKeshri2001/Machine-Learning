{
 "cells": [
  {
   "cell_type": "markdown",
   "id": "42284f17-8d3d-4e65-9749-a8ca00c2b887",
   "metadata": {},
   "source": [
    "Q1. Pearson correlation coefficient is a measure of the linear relationship between two variables. Suppose you have collected data on the amount of time students spend studying for an exam and their final exam scores. Calculate the Pearson correlation coefficient between these two variables and interpret the result.\n",
    "\n",
    "    To calculate the Pearson correlation coefficient between the amount of time students spend studying for an exam and their final exam scores, we would need to follow these steps:\n",
    "\n",
    "    1. Collect data on both variables for a sample of students.\n",
    "    2. Calculate the mean and standard deviation of both variables.\n",
    "    3. Calculate the covaraince between the two variables.\n",
    "    4. Calculate the Pearson correlation coefficient using the formula.\n",
    "\n",
    "    cor = covariance(x, y) / (standard deviation of x * standard deviation of y)\n",
    "    If the value of cor is close to -1, it means that there is a strong negative linear relationship between the two variables.\n",
    "    If the value of cor is close to 1, it means that there is a strong positive linear relationship between the two variables. \n",
    "    If the value of cor is close to 0, it means that there is no linear relationship between the two variables.\n",
    "\n",
    "\n",
    "    Step1. collect data\n",
    "    study_hours: x = [3,5,2,6,4]\n",
    "    exam_score: y = [70,80,60,90,75]\n",
    "\n",
    "    Step 2. Calculate mean and standard deviation\n",
    "    mean of x = (3+5+2+6+4)/5 = 4\n",
    "    mean of y = (70+80+60+90+75)/5 = 75\n",
    "    Standard deviation of x = sqrt(((3-4)^2+(5-4)^2+(2-4)^2+(6-4)^2+(4-4)^2)/4) = 1.581139\n",
    "    Standard deviation of y = sqrt(((70-75)^2+(80-75)^2+(60-75)^2+(90-75)^2+(75-75)^2)/4) = 11.180340\n",
    "\n",
    "    Step 3. Calculate covariance between two variable\n",
    "    cov(x, y) = ((3-4)*(70-75)+(5-4)*(80-75)+(2-4)*(60-75)+(6-4)*(90-75)+(4-4)*(75-75))/4 = 17.5\n",
    "\n",
    "    Step 4. Calculate the Pearson correlation coefficient using the formula.\n",
    "    Pearson correlation coefficient = cov(x,y)/(standard deviation of x * standard deviation of y)\n",
    "                                    = 17.5/(1.581139 * 11.180340)\n",
    "                                    = 0.9899493\n",
    "    \n",
    "\n",
    "    The value of Pearson Correlation coefficient is 0.9899493, which very close to 1, means that there is a strong positive linear relationship between the study_hours and final exam score of students."
   ]
  },
  {
   "cell_type": "markdown",
   "id": "9bbc3fd5-8eb5-4f2b-be3d-096bafe21494",
   "metadata": {},
   "source": [
    "Q2. Spearman's rank correlation is a measure of the monotonic relationship between two variables. Suppose you have collected data on the amount of sleep individuals get each night and their overall job satisfaction level on a scale of 1 to 10. Calculate the Spearman's rank correlation between these two variables and interpret the result.\n",
    "\n",
    "    The formula for Spearman’s rank correlation coefficient is:\n",
    "\n",
    "    Spearman rank correlation coefficient = 1 - (6 * SSD) / (n * (n^2 - 1))\n",
    "    where,  SSD is the sum of squared differences between ranks and n is the number of observations.\n",
    "\n",
    "    amount_of_sleep =  [7,5,8,6,7]\n",
    "    rank            =  [3,1,5,2,3]\n",
    "    job_satisfaction = [8,5,9,4,6]\n",
    "    rank             = [4,2,5,1,3]\n",
    "\n",
    "    SSD = (3-4)^2+(1-2)^2+(5-5)^2+(2-1)^2+(3-3)^2\n",
    "        = 1+1+0+1+0\n",
    "        = 3\n",
    "\n",
    "    spearman_corr_coef = 1 - (6 * SSD) / (n * (n ^ 2 - 1))\n",
    "                       = 1 - (6*3)/(5*24)\n",
    "                       = 0.85\n",
    "\n",
    "    Spearman rank correlation coefficient of 0.85 indicates a strong positive correlation between the two variables being measured. This means that as one variable increases, the other variable tends to increase as well, and vice versa. The closer the value of r is to 1, the stronger the correlation between the two variables. "
   ]
  },
  {
   "cell_type": "markdown",
   "id": "430c925d-ec93-4e16-8b35-8d9748e3a9de",
   "metadata": {},
   "source": [
    "Q3. Suppose you are conducting a study to examine the relationship between the number of hours of exercise per week and body mass index (BMI) in a sample of adults. You collected data on both variables for 50 participants. Calculate the Pearson correlation coefficient and the Spearman's rank correlation between these two variables and compare the results."
   ]
  },
  {
   "cell_type": "code",
   "execution_count": 1,
   "id": "e09f7ec2-07db-4e5d-bb60-e778c34f118d",
   "metadata": {},
   "outputs": [
    {
     "name": "stdout",
     "output_type": "stream",
     "text": [
      "Pearson correlation coefficient: -0.38\n",
      "Spearman's rank correlation coefficient: -0.38\n"
     ]
    }
   ],
   "source": [
    "import numpy as np\n",
    "from scipy.stats import pearsonr, spearmanr\n",
    "\n",
    "# Generate random data as an example\n",
    "np.random.seed(123)\n",
    "exercise_hours = np.random.randint(1, 10, 50)\n",
    "bmi = np.random.normal(25, 3, 50)\n",
    "\n",
    "# Calculate Pearson correlation coefficient\n",
    "pearson_corr, p_value1 = pearsonr(exercise_hours, bmi)\n",
    "print(f\"Pearson correlation coefficient: {pearson_corr:.2f}\")\n",
    "\n",
    "# Calculate Spearman's rank correlation coefficient\n",
    "spearman_corr, p_value2 = spearmanr(exercise_hours, bmi)\n",
    "print(f\"Spearman's rank correlation coefficient: {spearman_corr:.2f}\")"
   ]
  },
  {
   "cell_type": "markdown",
   "id": "37b1fbb4-5056-407b-95a6-15d00d1ad215",
   "metadata": {},
   "source": [
    "Based on the values you provided, the Pearson correlation coefficient and Spearman's rank correlation coefficient have the same value of -0.38, indicating a moderate negative correlation between the number of hours of exercise per week and body mass index (BMI) in the sample of adults.\n",
    "\n",
    "Since both correlation coefficients have the same value, this suggests that the relationship between the two variables is both linear and monotonic."
   ]
  },
  {
   "cell_type": "markdown",
   "id": "ede9f01f-756f-476f-868f-dcc2d2fedb30",
   "metadata": {},
   "source": [
    "Q4. A researcher is interested in examining the relationship between the number of hours individuals spend watching television per day and their level of physical activity. The researcher collected data on both variables from a sample of 50 participants. Calculate the Pearson correlation coefficient between these two variables."
   ]
  },
  {
   "cell_type": "code",
   "execution_count": 2,
   "id": "05c24850-a69d-4045-9318-dc55872c1803",
   "metadata": {},
   "outputs": [
    {
     "name": "stdout",
     "output_type": "stream",
     "text": [
      "Pearson correlation coefficient: -0.3106819375280319\n"
     ]
    }
   ],
   "source": [
    "import numpy as np\n",
    "from scipy.stats import pearsonr\n",
    "\n",
    "# Generate 50 random numbers from a normal distribution with mean 3 and standard deviation 1\n",
    "TV_hours = np.random.normal(3, 1, 50)\n",
    "\n",
    "# Generate 50 random numbers from a normal distribution with mean 5 and standard deviation 2\n",
    "Physical_activity = np.random.normal(5, 2, 50)\n",
    "\n",
    "# Calculate the Pearson correlation coefficient between TV_hours and Physical_activity\n",
    "corr_coef, p_value = pearsonr(TV_hours, Physical_activity)\n",
    "\n",
    "print('Pearson correlation coefficient:', corr_coef)"
   ]
  },
  {
   "cell_type": "markdown",
   "id": "d419bb0b-b7e0-4013-beee-71eb3d4fbadd",
   "metadata": {},
   "source": [
    "Q5. A survey was conducted to examine the relationship between age and preference for a particular brand of soft drink. The survey results are shown below:\n",
    "\n",
    "    age = [25,42,37,19,31,28]\n",
    "    soft drink Preference = ['Coke', 'Pepsi','Mountain Dew', 'Coke','Pepsi','Coke']"
   ]
  },
  {
   "cell_type": "code",
   "execution_count": 3,
   "id": "09184677-fc48-4eca-8551-978d808bd1be",
   "metadata": {},
   "outputs": [
    {
     "name": "stdout",
     "output_type": "stream",
     "text": [
      "   age soft_drink_preference  count\n",
      "0   19                  Coke      1\n",
      "1   25                  Coke      1\n",
      "2   28                  Coke      1\n",
      "3   31                 Pepsi      1\n",
      "4   37          Mountain Dew      1\n",
      "5   42                 Pepsi      1\n"
     ]
    }
   ],
   "source": [
    "import pandas as pd\n",
    "\n",
    "# Define the data as a pandas DataFrame\n",
    "data = pd.DataFrame({'age': [25, 42, 37, 19, 31, 28],\n",
    "                     'soft_drink_preference': ['Coke', 'Pepsi', 'Mountain Dew', 'Coke', 'Pepsi', 'Coke']})\n",
    "\n",
    "# Group the data by age and soft drink preference, and count the number of occurrences\n",
    "counts = data.groupby(['age', 'soft_drink_preference']).size().reset_index(name='count')\n",
    "\n",
    "# Print the counts\n",
    "print(counts)"
   ]
  },
  {
   "cell_type": "markdown",
   "id": "9a9ca308-2775-43d7-938d-d05967a38d36",
   "metadata": {},
   "source": [
    "From this table, we can see that the most common soft drink preference is Coke, and that it is more popular among younger age groups (19, 25, and 28). The second most common soft drink preference is Pepsi, and it is more popular among older age groups (31 and 42). Mountain Dew is the least common soft drink preference, with only one occurrence in the 37 age group."
   ]
  },
  {
   "cell_type": "markdown",
   "id": "e9c73141-0c6e-4d94-80a3-e7a0000c31a2",
   "metadata": {},
   "source": [
    "Q6. A company is interested in examining the relationship between the number of sales calls made per day and the number of sales made per week. The company collected data on both variables from a sample of 30 sales representatives. Calculate the Pearson correlation coefficient between these two variables."
   ]
  },
  {
   "cell_type": "code",
   "execution_count": 4,
   "id": "9aff6c79-91aa-4d1c-b218-82527c2ff646",
   "metadata": {},
   "outputs": [
    {
     "name": "stdout",
     "output_type": "stream",
     "text": [
      "Pearson correlation coefficient: 0.08009128480207679\n"
     ]
    }
   ],
   "source": [
    "import numpy as np\n",
    "from scipy.stats import pearsonr\n",
    "\n",
    "# Generate 30 random numbers from a normal distribution with mean 10 and standard deviation 2\n",
    "sales_calls_per_day = np.random.normal(10, 2, 30)\n",
    "\n",
    "# Generate 30 random numbers from a normal distribution with mean 20 and standard deviation 5\n",
    "sales_per_week = np.random.normal(20, 5, 30)\n",
    "\n",
    "# Calculate the Pearson correlation coefficient between sales_calls_per_day and sales_per_week\n",
    "corr_coef, p_value = pearsonr(sales_calls_per_day, sales_per_week)\n",
    "\n",
    "print('Pearson correlation coefficient:', corr_coef)"
   ]
  },
  {
   "cell_type": "markdown",
   "id": "99377fbe-0c1d-4b54-8edc-9c365712ed7c",
   "metadata": {},
   "source": [
    "In this example, np.random.normal() generates 30 random numbers from normal distributions with mean 10 and standard deviation 2 for sales_calls_per_day, and mean 20 and standard deviation 5 for sales_per_week. The pearsonr() function from scipy.stats is then used to calculate the Pearson correlation coefficient between the two sets of random variables."
   ]
  },
  {
   "cell_type": "code",
   "execution_count": null,
   "id": "9a3089d5-963c-4470-9d3a-3f5e4d9b63cf",
   "metadata": {},
   "outputs": [],
   "source": []
  }
 ],
 "metadata": {
  "kernelspec": {
   "display_name": "Python 3 (ipykernel)",
   "language": "python",
   "name": "python3"
  },
  "language_info": {
   "codemirror_mode": {
    "name": "ipython",
    "version": 3
   },
   "file_extension": ".py",
   "mimetype": "text/x-python",
   "name": "python",
   "nbconvert_exporter": "python",
   "pygments_lexer": "ipython3",
   "version": "3.10.8"
  }
 },
 "nbformat": 4,
 "nbformat_minor": 5
}
