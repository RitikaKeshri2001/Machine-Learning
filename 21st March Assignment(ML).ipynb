{
 "cells": [
  {
   "cell_type": "markdown",
   "id": "9f631c72-13ab-4087-928f-8b0126e1846b",
   "metadata": {},
   "source": [
    "Q1. What is the difference between Ordinal Encoding and Label Encoding? Provide an example of when you\n",
    "might choose one over the other.\n",
    "\n",
    "    Ordinal Encoding and Label Encoding are two commonly used techniques for encoding categorical variables in machine learning. The main difference between these two techniques is the way in which they assign numerical values to the categories.\n",
    "\n",
    "    Difference between Ordinal and Label encoding are:\n",
    "\n",
    "    Label Encoding assigns a unique numerical value to each category in the variable, without any specific order. For example, if we have a categorical variable \"color\" with three categories: red, green, and blue, Label Encoding would assign the values 0, 1, and 2 to each category.\n",
    "\n",
    "    On the other hand, Ordinal Encoding assigns numerical values to each category based on their order or rank. For example, if we have a categorical variable \"size\" with three categories: small, medium, and large, Ordinal Encoding would assign the values 0, 1, and 2 to each category, respectively, based on their order.\n",
    "\n",
    "    When to choose one over other:-\n",
    "\n",
    "    In general, Ordinal Encoding is preferred when there is a clear ordering or hierarchy among the categories, such as in the example of \"size\" mentioned above. In contrast, Label Encoding is preferred when there is no particular ordering among the categories, or when the variable has only two categories.\n",
    "\n",
    "    For example, if we are working on a problem where we need to predict the size of a t-shirt based on its color, we might choose to use Label Encoding for the \"color\" variable since there is no particular ordering among the colors. However, if we are working on a problem where we need to predict the level of education of a person based on their degree, we might choose to use Ordinal Encoding since there is a clear ordering among the different levels of education (e.g. high school, bachelor's degree, master's degree, etc.)."
   ]
  },
  {
   "cell_type": "markdown",
   "id": "757c3db0-d128-4d1a-ae3d-5bfe4d6153e6",
   "metadata": {},
   "source": [
    "Q2. Explain how Target Guided Ordinal Encoding works and provide an example of when you might use it in\n",
    "a machine learning project.\n",
    "\n",
    "    Target encoding is the process of replacing a categorical feature with mean target value of all data points belonging to the category. It is a technique that combines the principles of Ordinal Encoding and target variable analysis. The basic idea behind this technique is to assign a rank or order to the categories of a categorical variable based on the relationship between each category and the target variable.\n",
    "\n",
    "    How Target Guided Ordinal Encoding works:\n",
    "\n",
    "    1. For each category in the variable, calculate the mean of the target variable for that category.\n",
    "\n",
    "    2. Rank the categories based on their mean target value, with the category having the highest mean target value assigned the highest rank.\n",
    "\n",
    "    3. Replace the categories with their respective ranks.\n",
    "\n",
    "    When we use Target Guided Ordinal Encoding in a machine learning project:\n",
    "\n",
    "    Target Guided Ordinal Encoding is useful when there is a clear relationship between the categories of a variable and the target variable. For example, if we are working on a problem where we need to predict the price of a house based on its location, Target Guided Ordinal Encoding can be used to transform the categorical variable \"location\" into a numerical variable that reflects the relative price levels of the different locations."
   ]
  },
  {
   "cell_type": "markdown",
   "id": "e6b3bd22-e56a-498c-b4d9-e147eab8f18d",
   "metadata": {},
   "source": [
    "Q3. Define covariance and explain why it is important in statistical analysis. How is covariance calculated?\n",
    "\n",
    "    Covariance is a measure of how two variables change or vary together. It measures the direction and strength of the linear relationship between two variables. When two variables have a positive covariance, it means that they tend to increase or decrease together, whereas a negative covariance indicates that they tend to move in opposite directions.\n",
    "\n",
    "    Covariance is an important concept in statistical analysis because it provides a way to assess the degree to which two variables are related. It can help in understanding how changes in one variable may affect another variable and can provide insights into the nature of the relationship between the two variables.\n",
    "\n",
    "    Covariance is calculated using the following formula:\n",
    "\n",
    "    Formula of population covariance: Cov(x,y) = (Σ(xi - x̄)(yi - ȳ))/n \n",
    "    Formula of sample covariance: Cov(x,y) = (Σ(xi - x̄)(yi - ȳ))/(n-1) \n",
    "\n",
    "    where, \n",
    "    x and y are two variables,\n",
    "    xi = data value of x, yi = data value of y, x̄ = mean of x, ȳ = mean of y, n = number of data values"
   ]
  },
  {
   "cell_type": "markdown",
   "id": "3455b696-5fed-4db4-9f42-9cb280ff9603",
   "metadata": {},
   "source": [
    "Q4. For a dataset with the following categorical variables: Color (red, green, blue), Size (small, medium,\n",
    "large), and Material (wood, metal, plastic), perform label encoding using Python's scikit-learn library.\n",
    "Show your code and explain the output."
   ]
  },
  {
   "cell_type": "code",
   "execution_count": 1,
   "id": "63598be6-bc45-4971-9b02-cdab749634c5",
   "metadata": {},
   "outputs": [
    {
     "name": "stdout",
     "output_type": "stream",
     "text": [
      "   color    size material  color_encoder  size_encoder  material_encoder\n",
      "0    red   small     wood              2             2                 2\n",
      "1  green  medium    metal              1             1                 0\n",
      "2   blue   large  plastic              0             0                 1\n",
      "3   blue  medium  plastic              0             1                 1\n",
      "4    red   small    metal              2             2                 0\n"
     ]
    }
   ],
   "source": [
    "from sklearn.preprocessing import LabelEncoder\n",
    "import pandas as pd\n",
    "\n",
    "data = pd.DataFrame({\n",
    "    'color':['red', 'green', 'blue', 'blue', 'red'], \n",
    "    'size':['small', 'medium', 'large', 'medium', 'small'],\n",
    "    'material':['wood', 'metal', 'plastic', 'plastic', 'metal']\n",
    "})\n",
    "\n",
    "# create an instance of label encoder\n",
    "encoder = LabelEncoder()\n",
    "\n",
    "data['color_encoder'] = encoder.fit_transform(data['color'])\n",
    "data['size_encoder'] = encoder.fit_transform(data['size'])\n",
    "data['material_encoder'] = encoder.fit_transform(data['material'])\n",
    "\n",
    "print(data)"
   ]
  },
  {
   "cell_type": "markdown",
   "id": "b265cbfe-03f6-4da2-a1c7-804e48c2d6c5",
   "metadata": {},
   "source": [
    "In this code, we first create a sample dataframe with three categorical variables - Color, Size, and Material. We then import the LabelEncoder class from scikit-learn library and create a LabelEncoder object.\n",
    "\n",
    "We then apply label encoding to each of the categorical variables using the fit_transform method of the label encoder object. This method fits the encoder to the data and transforms the data to its encoded form in a single step.\n",
    "\n",
    "Finally, we print the encoded dataframe to see the results of the label encoding."
   ]
  },
  {
   "cell_type": "markdown",
   "id": "4ded8bf2-105f-4c3c-93e5-9d15de8701bb",
   "metadata": {},
   "source": [
    "Q5. Calculate the covariance matrix for the following variables in a dataset: Age, Income, and Education\n",
    "level. Interpret the results."
   ]
  },
  {
   "cell_type": "code",
   "execution_count": 2,
   "id": "d51208a1-70ac-4548-a0ea-7de142a0bc53",
   "metadata": {},
   "outputs": [
    {
     "name": "stdout",
     "output_type": "stream",
     "text": [
      "                      Age       Income  Education Level\n",
      "Age                  62.5     125000.0             25.0\n",
      "Income           125000.0  250000000.0          50000.0\n",
      "Education Level      25.0      50000.0             10.0\n"
     ]
    }
   ],
   "source": [
    "import pandas as pd\n",
    "\n",
    "data = pd.DataFrame({\n",
    "    'Age': [25, 30, 35, 40, 45],\n",
    "    'Income': [50000, 60000, 70000, 80000, 90000],\n",
    "    'Education Level': [12, 14, 16, 18, 20]\n",
    "})\n",
    "\n",
    "cov_matrix = data.cov()\n",
    "\n",
    "print(cov_matrix)"
   ]
  },
  {
   "cell_type": "markdown",
   "id": "9b91c147-f95a-4e6b-8fcb-3e1be6123740",
   "metadata": {},
   "source": [
    "In this code, we first create a sample dataframe with Age, Income, and Education level columns. We then use the cov() function of pandas to calculate the covariance matrix of the dataframe.\n",
    "\n",
    "The resulting covariance matrix shows the pairwise covariances between the three variables. The diagonal elements of the matrix represent the variances of each variable, while the off-diagonal elements represent the covariances between the pairs of variables."
   ]
  },
  {
   "cell_type": "markdown",
   "id": "a40bf46f-a183-48d0-8232-c0679a205e96",
   "metadata": {},
   "source": [
    "Q6. You are working on a machine learning project with a dataset containing several categorical\n",
    "variables, including \"Gender\" (Male/Female), \"Education Level\" (High School/Bachelor's/Master's/PhD),\n",
    "and \"Employment Status\" (Unemployed/Part-Time/Full-Time). Which encoding method would you use for\n",
    "each variable, and why?\n",
    "\n",
    "    For the categorical variables in the given dataset, the encoding method to use would depend on the specific machine learning algorithm being used, as well as the nature of the data.\n",
    "\n",
    "    Encoding method we use for each variable:\n",
    "\n",
    "    For Gender which include Male/Female:\n",
    "    Since there are only two possible values (Male/Female), one possible encoding method is binary encoding, where Male is represented as 0 and Female is represented as 1. Another possible method is label encoding, where Male is encoded as 0 and Female is encoded as 1. \n",
    "\n",
    "    For Educational level which include High school/Bachelor's/Master's/PhD:\n",
    "    Since there are more than two possible values and there is an inherent order between the values, ordinal encoding may be a suitable method for this variable. We can assign a numerical value to each level based on its order (e.g., High School = 1, Bachelor's = 2, Master's = 3, PhD = 4). \n",
    "\n",
    "    For Employment Status which include Unemployed/Part-Time/Full-Time :\n",
    "    Since there are more than two possible values and there is no inherent order between the values, one-hot encoding may be a suitable method for this variable. We can represent each status as a binary column (e.g., Unemployed = [1, 0, 0], Part-Time = [0, 1, 0], Full-Time = [0, 0, 1]). "
   ]
  },
  {
   "cell_type": "markdown",
   "id": "3a848d82-41ae-4161-891f-5d8d619c946b",
   "metadata": {},
   "source": [
    "Q7. You are analyzing a dataset with two continuous variables, \"Temperature\" and \"Humidity\", and two\n",
    "categorical variables, \"Weather Condition\" (Sunny/Cloudy/Rainy) and \"Wind Direction\" (North/South/\n",
    "East/West). Calculate the covariance between each pair of variables and interpret the results."
   ]
  },
  {
   "cell_type": "code",
   "execution_count": 3,
   "id": "7f7a1d18-04a2-4034-9c2e-01031c3de74d",
   "metadata": {},
   "outputs": [
    {
     "name": "stdout",
     "output_type": "stream",
     "text": [
      "                   temperature  humidity  weather_condition  wind_direction\n",
      "temperature              22.50     37.50              -2.25            0.75\n",
      "humidity                 37.50     62.50              -3.75            1.25\n",
      "weather_condition        -2.25     -3.75               0.70            0.40\n",
      "wind_direction            0.75      1.25               0.40            1.30\n"
     ]
    }
   ],
   "source": [
    "from sklearn.preprocessing import LabelEncoder\n",
    "import pandas as pd\n",
    "\n",
    "# create data \n",
    "data = pd.DataFrame({\n",
    "    'temperature' : [68, 71, 74, 77, 80],\n",
    "    'humidity' : [60, 65, 70, 75, 80],\n",
    "    'weather_condition' : [\"Sunny\", \"Sunny\", \"Cloudy\", \"Rainy\", \"Rainy\"],\n",
    "    'wind_direction' : [\"North\", \"South\", \"East\", \"West\", \"North\"]\n",
    "})\n",
    "\n",
    "#create an instance of labelEncoder\n",
    "encoder = LabelEncoder()\n",
    "\n",
    "# label encoding of categorical values\n",
    "data['weather_condition'] = encoder.fit_transform(data['weather_condition'])\n",
    "data['wind_direction'] = encoder.fit_transform(data['wind_direction'])\n",
    "\n",
    "# Covariance matrix\n",
    "cov_matrix = data.cov()\n",
    "\n",
    "print(cov_matrix)"
   ]
  },
  {
   "cell_type": "code",
   "execution_count": null,
   "id": "811489a8-facb-4b49-b76d-704e0fdf78ac",
   "metadata": {},
   "outputs": [],
   "source": []
  }
 ],
 "metadata": {
  "kernelspec": {
   "display_name": "Python 3 (ipykernel)",
   "language": "python",
   "name": "python3"
  },
  "language_info": {
   "codemirror_mode": {
    "name": "ipython",
    "version": 3
   },
   "file_extension": ".py",
   "mimetype": "text/x-python",
   "name": "python",
   "nbconvert_exporter": "python",
   "pygments_lexer": "ipython3",
   "version": "3.10.8"
  }
 },
 "nbformat": 4,
 "nbformat_minor": 5
}
