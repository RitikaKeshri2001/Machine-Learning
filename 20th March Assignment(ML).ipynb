{
 "cells": [
  {
   "cell_type": "markdown",
   "id": "dd5ba245-c501-4446-bfcc-5584970d89b4",
   "metadata": {},
   "source": [
    "Q1. What is data encoding? How is it useful in data science?\n",
    "\n",
    "    Encoding is the process of converting the data or a given sequence of characters, symbols, alphabets etc., into a specified format, for the secured transmission of data.\n",
    "\n",
    "    Data encoding refers to the process of transforming categorical or text data into a numerical representation that can be processed by machine learning algorithms. This is necessary because many machine learning algorithms can only process numerical data, and cannot work with categorical data directly. There are several methods for data encoding, including label encoding, one-hot encoding, and target encoding, among others. \n",
    "\n",
    "    Data encoding is useful in data science because it allows machine learning algorithms to work with categorical and text data, which are common in many real-world applications. It helps to capture the underlying structure and relationships in the data, and can improve the accuracy and performance of machine learning models. Data encoding also helps to reduce the size of the dataset, as numerical data takes up less memory than categorical or text data."
   ]
  },
  {
   "cell_type": "markdown",
   "id": "e751797a-c5c1-4962-b5f7-10ea4d2e184f",
   "metadata": {},
   "source": [
    "Q2. What is nominal encoding? Provide an example of how you would use it in a real-world scenario.\n",
    "\n",
    "    Nominal encoding is a type of data encoding that assigns a unique integer to each category in a categorical variable, without any inherent ordering or ranking. \n",
    "\n",
    "    An example of nominal encoding in a real-world scenario is classification problem where we have a categorical variable representing different types of fruits, such as \"apple\", \"banana\", and \"orange\". Nominal encoding can be used to convert these categories into numerical values, which can be fed into a machine learning algorithm for classification."
   ]
  },
  {
   "cell_type": "markdown",
   "id": "55e69030-580f-4fd8-b35b-ed2f87622237",
   "metadata": {},
   "source": [
    "Q3. In what situations is nominal encoding preferred over one-hot encoding? Provide a practical example.\n",
    "\n",
    "    Nominal encoding is preferred over one-hot encoding when the number of categories in a categorical variable is large, and when the categories are not mutually exclusive. One-hot encoding creates a binary vector for each category, with a value of 1 for the corresponding category and 0 for all other categories. This can lead to a high number of features and a sparse matrix, which can increase the complexity of the machine learning algorithm and make it harder to interpret the results.\n",
    "\n",
    "    An example of when nominal encoding is preferred over one-hot encoding is in natural language processing, specifically in the case of text classification. In this scenario, we might have a categorical variable representing the topic or category of a given document, such as \"politics\", \"sports\", \"entertainment\", \"technology\", and so on. If we were to use one-hot encoding to represent these categories, we would end up with a high number of features, which can be computationally expensive to process. Additionally, some documents may be related to multiple categories, which can make it difficult to determine which category to assign the document to using one-hot encoding. In this case, nominal encoding can be used to represent the categories as unique integers, which can be more efficient and easier to interpret."
   ]
  },
  {
   "cell_type": "markdown",
   "id": "c214f0b8-bb4b-4ff1-b4f3-6ee2d03676bc",
   "metadata": {},
   "source": [
    "Q4. Suppose you have a dataset containing categorical data with 5 unique values. Which encoding\n",
    "technique would you use to transform this data into a format suitable for machine learning algorithms?\n",
    "Explain why you made this choice.\n",
    "\n",
    "    Assuming there is no natural ordering or ranking between the categories and the number of categories is relatively small (5 unique values), \"nominal encoding\" can be a suitable choice. Nominal encoding will assign a unique integer to each category, without any inherent ordering or ranking, which will allow the categorical data to be represented numerically in a compact and efficient way. Additionally, nominal encoding will preserve any information about the frequency or distribution of the categories, which can be useful in some machine learning algorithms."
   ]
  },
  {
   "cell_type": "markdown",
   "id": "90eb160b-af80-4709-b96f-93b048816ff4",
   "metadata": {},
   "source": [
    "Q5. In a machine learning project, you have a dataset with 1000 rows and 5 columns. Two of the columns\n",
    "are categorical, and the remaining three columns are numerical. If you were to use nominal encoding to\n",
    "transform the categorical data, how many new columns would be created? Show your calculations.\n",
    "\n",
    "    Nominal encoding, also known as one-hot encoding, converts each unique value in a categorical column into a new binary column, with a value of 1 indicating that the row has that category, and 0 indicating that it does not.\n",
    "\n",
    "    So, for each categorical column, we need to create as many new binary columns as there are unique categories, minus one (since one of the categories can be inferred from the absence of all the others).   \n",
    "\n",
    "    Assuming that the first categorical column has 4 unique categories and the second categorical column has 6 unique categories, the number of new columns created by nominal encoding can be calculated as follows:\n",
    "\n",
    "    For the first categorical column:\n",
    "\n",
    "    4 unique categories minus 1 = 3 new columns created\n",
    "    For the second categorical column:\n",
    "\n",
    "    6 unique categories minus 1 = 5 new columns created\n",
    "    So, the total number of new columns created by nominal encoding would be:\n",
    "\n",
    "    3 + 5 = 8 new columns created\n",
    "\n",
    "    Therefore, after nominal encoding, the dataset would have 1000 rows and 8 + 3 = 11 columns."
   ]
  },
  {
   "cell_type": "markdown",
   "id": "747042fc-4762-41f3-92b9-b3943304e08f",
   "metadata": {},
   "source": [
    "Q6. You are working with a dataset containing information about different types of animals, including their\n",
    "species, habitat, and diet. Which encoding technique would you use to transform the categorical data into\n",
    "a format suitable for machine learning algorithms? Justify your answer.\n",
    "\n",
    "    Since there is no inherent order in the categories of the features, we use one-hot encoding. One-hot encoding will create binary vectors for each feature, which can be used as input to machine learning algorithms.\n",
    "\n",
    "    One-hot encoding is a popular technique for handling categorical data in machine learning. This technique creates a binary vector for each categorical feature, where each vector has a length equal to the number of categories in the feature. The vector has a value of 1 in the position corresponding to the category and 0 in all other positions."
   ]
  },
  {
   "cell_type": "markdown",
   "id": "a57b945f-a656-4342-8710-40b0bbeaed0a",
   "metadata": {},
   "source": [
    "Q7.You are working on a project that involves predicting customer churn for a telecommunications company. You have a dataset with 5 features, including the customer's gender, age, contract type, monthly charges, and tenure. Which encoding technique(s) would you use to transform the categorical data into numerical data? Provide a step-by-step explanation of how you would implement the encoding.\n",
    "\n",
    "    The Categorical features gender and contract type has no inherent order , so we use one-hot encoding to transform the categorical feature into numerical data. \n",
    "\n",
    "    Steps to implement encoding:\n",
    "    1. import skicit-learn library and pandas library.\n",
    "        from sklearn.preprocessing import OneHotEncoder\n",
    "        import pandas as pd\n",
    "\n",
    "    2. Load the dataset into pandas dataframe.\n",
    "        (df = pd.read_csv('telecom_churn.csv'))\n",
    "\n",
    "    3. Identify the categorical columns that need to be one-hot encoded.\n",
    "        (cat_cols = ['gender', 'contract_type'])\n",
    "\n",
    "    4. Create the instance of OneHotEncoder\n",
    "        encoder = OneHotEncoder(handle_unknown='ignore', sparse=False)\n",
    "        handle_unknown='ignore' is used to ignore new categories that may appear in the test set, and sparse=False is used to return a dense matrix.\n",
    "\n",
    "    5. Fit the encoder on the categorical columns.\n",
    "        encoder.fit(df[cat_cols])\n",
    "\n",
    "    6. Transform the categorical columns into one-hot encoded columns.\n",
    "        encoded_cols = pd.DataFrame(encoder.transform(df[cat_cols]))\n",
    "    \n",
    "    7. Replace the original categorical columns with the one-hot encoded columns.\n",
    "        df = pd.concat([df, encoded_cols], axis=1)\n",
    "        df.drop(cat_cols, axis=1, inplace=True)\n",
    "\n",
    "    8. Rename the one-hot encoded columns for clarity.\n",
    "        encoded_cols_names = encoder.get_feature_names(cat_cols)\n",
    "        df.columns = list(df.columns[:-len(cat_cols)]) + list(encoded_cols_names)"
   ]
  },
  {
   "cell_type": "code",
   "execution_count": null,
   "id": "a11aac21-e5ac-410e-9c5f-fbed00487149",
   "metadata": {},
   "outputs": [],
   "source": []
  }
 ],
 "metadata": {
  "kernelspec": {
   "display_name": "Python 3 (ipykernel)",
   "language": "python",
   "name": "python3"
  },
  "language_info": {
   "codemirror_mode": {
    "name": "ipython",
    "version": 3
   },
   "file_extension": ".py",
   "mimetype": "text/x-python",
   "name": "python",
   "nbconvert_exporter": "python",
   "pygments_lexer": "ipython3",
   "version": "3.10.8"
  }
 },
 "nbformat": 4,
 "nbformat_minor": 5
}
